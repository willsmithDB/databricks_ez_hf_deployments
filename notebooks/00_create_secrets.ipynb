{
 "cells": [
  {
   "cell_type": "markdown",
   "id": "96e4c993",
   "metadata": {},
   "source": [
    "### Change the **secret_value** for the huggingface key if needed. Modify the **secret_scope** and **secret_key** in the config.yaml for usage across notebooks"
   ]
  },
  {
   "cell_type": "code",
   "execution_count": null,
   "id": "55e20533",
   "metadata": {},
   "outputs": [],
   "source": [
    "import yaml\n",
    "\n",
    "with open(\"../configs/config.yaml\", \"r\") as f:\n",
    "    config = yaml.safe_load(f)\n",
    "\n",
    "secret_scope = config.get(\"secret_scope\")\n",
    "secret_key = config.get(\"secret_key\")\n",
    "secret_value = \"CHANGE_ME\""
   ]
  },
  {
   "cell_type": "code",
   "execution_count": null,
   "id": "02695edc",
   "metadata": {},
   "outputs": [],
   "source": [
    "from databricks.sdk import WorkspaceClient\n",
    "\n",
    "w = WorkspaceClient()\n",
    "w.secrets.create_scope(scope=secret_scope)"
   ]
  },
  {
   "cell_type": "code",
   "execution_count": null,
   "id": "7adf3d66",
   "metadata": {},
   "outputs": [],
   "source": [
    "# Returns a base64-encoded bytes value, decode if needed\n",
    "encoded_secret = w.secrets.put_secret(scope=secret_scope, key=secret_key, string_value=secret_value)"
   ]
  }
 ],
 "metadata": {
  "kernelspec": {
   "display_name": "Python 3",
   "language": "python",
   "name": "python3"
  },
  "language_info": {
   "name": "python",
   "version": "3.12.11"
  }
 },
 "nbformat": 4,
 "nbformat_minor": 5
}
