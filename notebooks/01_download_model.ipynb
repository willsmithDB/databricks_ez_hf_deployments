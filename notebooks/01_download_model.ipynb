{
 "cells": [
  {
   "cell_type": "code",
   "execution_count": null,
   "id": "a462f41f",
   "metadata": {},
   "outputs": [],
   "source": [
    "%pip install -r requirements.txt\n",
    "%restart_python"
   ]
  },
  {
   "cell_type": "code",
   "execution_count": null,
   "id": "602757bc",
   "metadata": {},
   "outputs": [],
   "source": [
    "import yaml\n",
    "\n",
    "with open(\"../configs/config.yaml\", \"r\") as f:\n",
    "    config = yaml.safe_load(f)\n",
    "\n",
    "catalog_name = config.get(\"catalog_name\")\n",
    "schema_name = config.get(\"schema_name\")\n",
    "volume_name = config.get(\"volume_name\")\n",
    "volume_folder = config.get(\"volume_folder\")\n",
    "model_name = config.get(\"model_name\")\n",
    "revision = config.get(\"revision\")\n",
    "secret_scope = config.get(\"secret_scope\")\n",
    "secret_key = config.get(\"secret_key\")"
   ]
  },
  {
   "cell_type": "code",
   "execution_count": null,
   "id": "8b2f52ce",
   "metadata": {},
   "outputs": [],
   "source": [
    "from transformers import AutoProcessor, AutoModelForCausalLM, BitsAndBytesConfig\n",
    "from PIL import Image\n",
    "import requests, torch\n",
    "import mlflow\n",
    "from mlflow.models.signature import ModelSignature\n",
    "from mlflow.types.schema import Schema, ColSpec"
   ]
  },
  {
   "cell_type": "code",
   "execution_count": null,
   "id": "142a1056",
   "metadata": {},
   "outputs": [],
   "source": [
    "import os\n",
    "cache_remote =  f\"/Volumes/{catalog_name}/{schema_name}/{}/{volume_name}/{revision}/{volume_folder}\"\n",
    "cache_hf = \"/local_disk0/hf_cache\"\n",
    "cache_local = \"/local_disk0/{volume_folder}\" \n",
    "\n",
    "os.environ[\"HF_HOME\"] = cache_hf\n",
    "os.environ[\"HF_HUB_CACHE\"] = cache_hf\n",
    "os.environ[\"HF_HUB_DISABLE_SYMLINKS_WARNING\"] = \"True\"\n",
    "os.environ[\"HF_HUB_DOWNLOAD_TIMEOUT\"] = \"1000\"\n",
    "os.environ['HF_HUB_ENABLE_HF_TRANSFER'] = '1'  # Enables optimized download backend\n"
   ]
  },
  {
   "cell_type": "code",
   "execution_count": null,
   "id": "586e81f8",
   "metadata": {},
   "outputs": [],
   "source": [
    "from huggingface_hub import login, snapshot_download\n",
    "\n",
    "login(token=dbutils.secrets.get(scope=secret_scope, key=secret_key), add_to_git_credential=True)"
   ]
  },
  {
   "cell_type": "code",
   "execution_count": null,
   "id": "55ec8044",
   "metadata": {},
   "outputs": [],
   "source": [
    "from transformers import AutoTokenizer, AutoModelForCausalLM, BitsAndBytesConfig\n",
    "\n",
    "tokenizer = AutoTokenizer.from_pretrained(model_name, revision = revision)\n",
    "\n",
    "# Set pad_token \n",
    "if tokenizer.pad_token is None:\n",
    "    tokenizer.pad_token = tokenizer.eos_token\n",
    "\n",
    "quantization_config = None\n",
    "\n",
    "# NOTE: Uncomment to use 4bit quantization\n",
    "# quantization_config = BitsAndBytesConfig(\n",
    "#     load_in_4bit=True,\n",
    "#     bnb_4bit_use_double_quant=True,\n",
    "#     bnb_4bit_quant_type=\"nf4\",\n",
    "# )\n",
    "\n",
    "# NOTE: Uncomment to use 8bit quantization\n",
    "# quantization_config = BitsAndBytesConfig(\n",
    "#     load_in_8bit=True,\n",
    "# )\n",
    "\n",
    "if quantization_config is not None:\n",
    "    model = AutoModelForCausalLM.from_pretrained(\n",
    "        model_name,\n",
    "        revision = revision,\n",
    "        quantization_config=quantization_config,\n",
    "        torch_dtype=torch.bfloat16,\n",
    "        device_map=\"auto\"    \n",
    "    )\n",
    "\n",
    "else:\n",
    "    model = AutoModelForCausalLM.from_pretrained(\n",
    "        model_name,\n",
    "        revision = revision,\n",
    "        torch_dtype=torch.bfloat16,\n",
    "        device_map=\"auto\"    \n",
    "    )"
   ]
  },
  {
   "cell_type": "code",
   "execution_count": null,
   "id": "d63e3587",
   "metadata": {},
   "outputs": [],
   "source": [
    "tokenizer.save_pretrained(cache_local)\n",
    "model.save_pretrained(cache_local)"
   ]
  },
  {
   "cell_type": "code",
   "execution_count": null,
   "id": "d493f65e",
   "metadata": {},
   "outputs": [],
   "source": [
    "import shutil\n",
    "try:\n",
    "    dbutils.fs.mkdirs(cache_remote)\n",
    "except Exception as e:\n",
    "    print(f\"Error creating directory: {e}\")\n",
    "\n",
    "try:\n",
    "    shutil.copytree(cache_local, cache_remote, dirs_exist_ok=True) \n",
    "    print(f\"Successfully copied directory from {cache_local} to {cache_remote}\")\n",
    "except Exception as e:\n",
    "    print(f\"Error copying directory: {e}\")"
   ]
  }
 ],
 "metadata": {
  "language_info": {
   "name": "python"
  }
 },
 "nbformat": 4,
 "nbformat_minor": 5
}
